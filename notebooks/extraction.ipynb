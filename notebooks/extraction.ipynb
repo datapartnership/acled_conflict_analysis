{
 "cells": [
  {
   "cell_type": "markdown",
   "id": "d6df8c8a",
   "metadata": {},
   "source": [
    "# Extracting data from ACLED\n",
    "\n",
    "This note ook showcases how the package can be used to extract data from the package, process it and export it to raw files. "
   ]
  },
  {
   "cell_type": "code",
   "execution_count": 7,
   "id": "ab366c5a",
   "metadata": {},
   "outputs": [],
   "source": [
    "%reload_ext autoreload\n",
    "%autoreload 2\n",
    "\n",
    "import os\n",
    "from acled_conflict_analysis import processing\n",
    "from acled_conflict_analysis import extraction\n",
    "from datetime import datetime\n",
    "# Import the OAuth authentication function\n",
    "from acled_conflict_analysis.acled_auth import *"
   ]
  },
  {
   "cell_type": "markdown",
   "id": "daab7b0b",
   "metadata": {},
   "source": [
    "Enter your ACLED credentials in the cell below. These will be saved securely for future use."
   ]
  },
  {
   "cell_type": "code",
   "execution_count": 2,
   "id": "1468bbd5",
   "metadata": {},
   "outputs": [
    {
     "name": "stdout",
     "output_type": "stream",
     "text": [
      "✅ Credentials set for: ssarva@worldbank.org\n"
     ]
    }
   ],
   "source": [
    "# This is how users would actually input their credentials\n",
    "# The credentials will be securely saved for future use\n",
    "\n",
    "import getpass\n",
    "\n",
    "# Input your ACLED credentials\n",
    "acled_email = input(\"Enter your ACLED email: \")\n",
    "acled_password = getpass.getpass(\"Enter your ACLED password: \")\n",
    "\n",
    "print(f\"✅ Credentials set for: {acled_email}\")\n",
    "\n",
    "# Now you can use either function for data extraction:\n",
    "# 1. acled_api_with_credentials() - uses the credentials you just entered\n",
    "# 2. acled_api() - uses stored OAuth tokens (more efficient for repeated calls)"
   ]
  },
  {
   "cell_type": "markdown",
   "id": "99ada992",
   "metadata": {},
   "source": [
    "## Set up countries and date range for data extraction"
   ]
  },
  {
   "cell_type": "code",
   "execution_count": null,
   "id": "0ca31416",
   "metadata": {},
   "outputs": [],
   "source": [
    "countries_of_interest = [\"Sudan\", \"Somalia\", \"\"]\n",
    "START_DATE = \"2010-01-01\"\n",
    "END_DATE = datetime.today().strftime('%Y-%m-%d')"
   ]
  },
  {
   "cell_type": "code",
   "execution_count": 8,
   "id": "6dc48f75",
   "metadata": {},
   "outputs": [
    {
     "name": "stdout",
     "output_type": "stream",
     "text": [
      "🧪 Testing acled_api function for duplicate prints...\n",
      "🔄 Using cached OAuth token\n"
     ]
    },
    {
     "name": "stderr",
     "output_type": "stream",
     "text": [
      "/Users/ssarva/Library/CloudStorage/OneDrive-WBG/Documents/acled_conflict_analysis/.venv/lib/python3.13/site-packages/urllib3/connectionpool.py:1097: InsecureRequestWarning: Unverified HTTPS request is being made to host 'acleddata.com'. Adding certificate verification is strongly advised. See: https://urllib3.readthedocs.io/en/latest/advanced-usage.html#tls-warnings\n",
      "  warnings.warn(\n"
     ]
    },
    {
     "name": "stdout",
     "output_type": "stream",
     "text": [
      "✅ Successfully retrieved 1981264 records\n"
     ]
    }
   ],
   "source": [
    "# Test single call to check for duplicate prints\n",
    "print(\"🧪 Testing acled_api function for duplicate prints...\")\n",
    "\n",
    "data = extraction.acled_api(\n",
    "    region=[1,2,3,4,5,6,7,8,9,11,12],\n",
    "    start_date=START_DATE,\n",
    "    end_date=END_DATE  # Small date range for quick test\n",
    ")\n"
   ]
  },
  {
   "cell_type": "code",
   "execution_count": 21,
   "id": "7a134418",
   "metadata": {},
   "outputs": [
    {
     "data": {
      "text/plain": [
       "array(['Somalia', 'Sudan'], dtype=object)"
      ]
     },
     "execution_count": 21,
     "metadata": {},
     "output_type": "execute_result"
    }
   ],
   "source": [
    "data['country'].unique()"
   ]
  },
  {
   "cell_type": "code",
   "execution_count": null,
   "id": "cffefdd3",
   "metadata": {},
   "outputs": [],
   "source": [
    "# Alternative Method 2: Using credentials directly (for interactive use)\n",
    "# This method requires you to enter credentials each time but is useful for testing\n",
    "\n",
    "# Uncomment and run if you want to use direct credentials:\n",
    "# data_with_creds = extraction.acled_api_with_credentials(\n",
    "#     email=acled_email,\n",
    "#     password=acled_password, \n",
    "#     countries=countries_of_interest,\n",
    "#     start_date=START_DATE,\n",
    "#     end_date=END_DATE\n",
    "# )\n",
    "\n",
    "# Let's process the data we extracted\n",
    "processing.data_type_conversion(data)"
   ]
  },
  {
   "cell_type": "code",
   "execution_count": 38,
   "id": "248c52cd",
   "metadata": {},
   "outputs": [],
   "source": [
    "data.to_csv(f'../data/raw_acled_sudan_{extracted_date}.csv')"
   ]
  }
 ],
 "metadata": {
  "kernelspec": {
   "display_name": ".venv (3.13.7)",
   "language": "python",
   "name": "python3"
  },
  "language_info": {
   "codemirror_mode": {
    "name": "ipython",
    "version": 3
   },
   "file_extension": ".py",
   "mimetype": "text/x-python",
   "name": "python",
   "nbconvert_exporter": "python",
   "pygments_lexer": "ipython3",
   "version": "3.13.7"
  }
 },
 "nbformat": 4,
 "nbformat_minor": 5
}
