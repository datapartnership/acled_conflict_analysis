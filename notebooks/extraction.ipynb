{
 "cells": [
  {
   "cell_type": "markdown",
   "id": "d6df8c8a",
   "metadata": {},
   "source": [
    "# Extracting data from ACLED\n",
    "\n",
    "This note ook showcases how the package can be used to extract data from the package, process it and export it to raw files. "
   ]
  },
  {
   "cell_type": "code",
   "execution_count": 29,
   "id": "ab366c5a",
   "metadata": {},
   "outputs": [],
   "source": [
    "%reload_ext autoreload\n",
    "%autoreload 2\n",
    "\n",
    "import os\n",
    "from acled_conflict_analysis import processing\n",
    "from acled_conflict_analysis import extraction\n",
    "from datetime import datetime"
   ]
  },
  {
   "cell_type": "markdown",
   "id": "daab7b0b",
   "metadata": {},
   "source": [
    "Store your credentials in your local machine if you haven't already and pull them directly into your code"
   ]
  },
  {
   "cell_type": "code",
   "execution_count": 31,
   "id": "c3d51367",
   "metadata": {
    "tags": [
     "remove-cell"
    ]
   },
   "outputs": [],
   "source": [
    "#extraction.save_acled_credentials(email, key)"
   ]
  },
  {
   "cell_type": "code",
   "execution_count": 32,
   "id": "00b1ec0e",
   "metadata": {},
   "outputs": [],
   "source": [
    "os.environ['ACLED_EMAIL'] = extraction.get_acled_credentials()[0]\n",
    "os.environ['ACLED_KEY'] = extraction.get_acled_credentials()[1]"
   ]
  },
  {
   "cell_type": "code",
   "execution_count": 33,
   "id": "0ca31416",
   "metadata": {},
   "outputs": [],
   "source": [
    "countries_of_interest = [\"Sudan\"]\n",
    "START_DATE = \"2023-01-01\"\n",
    "END_DATE = datetime.today().strftime('%Y-%m-%d')"
   ]
  },
  {
   "cell_type": "code",
   "execution_count": 34,
   "id": "6dc48f75",
   "metadata": {},
   "outputs": [
    {
     "name": "stderr",
     "output_type": "stream",
     "text": [
      "c:\\WBG\\Anaconda3\\envs\\acled\\Lib\\site-packages\\urllib3\\connectionpool.py:1097: InsecureRequestWarning: Unverified HTTPS request is being made to host 'api.acleddata.com'. Adding certificate verification is strongly advised. See: https://urllib3.readthedocs.io/en/latest/advanced-usage.html#tls-warnings\n",
      "  warnings.warn(\n"
     ]
    }
   ],
   "source": [
    "extracted_date = datetime.today().strftime('%Y%m%d')\n",
    "data = extraction.acled_api(\n",
    "    email_address=os.environ.get(\"ACLED_EMAIL\"),\n",
    "    access_key=os.environ.get(\"ACLED_KEY\"),\n",
    "    countries=countries_of_interest,\n",
    "    start_date=START_DATE,\n",
    "    end_date=END_DATE\n",
    ")"
   ]
  },
  {
   "cell_type": "code",
   "execution_count": 35,
   "id": "cffefdd3",
   "metadata": {},
   "outputs": [],
   "source": [
    "processing.data_type_conversion(data)"
   ]
  },
  {
   "cell_type": "code",
   "execution_count": 36,
   "id": "f9460478",
   "metadata": {},
   "outputs": [
    {
     "data": {
      "text/plain": [
       "'20250513'"
      ]
     },
     "execution_count": 36,
     "metadata": {},
     "output_type": "execute_result"
    }
   ],
   "source": [
    "extracted_date"
   ]
  },
  {
   "cell_type": "code",
   "execution_count": 24,
   "id": "51a0fe62",
   "metadata": {},
   "outputs": [
    {
     "data": {
      "text/plain": [
       "np.int64(729)"
      ]
     },
     "execution_count": 24,
     "metadata": {},
     "output_type": "execute_result"
    }
   ],
   "source": [
    "extraction.get_iso_code(countries_of_interest)[0]"
   ]
  },
  {
   "cell_type": "code",
   "execution_count": 38,
   "id": "248c52cd",
   "metadata": {},
   "outputs": [],
   "source": [
    "data.to_csv(f'../data/raw_acled_sudan_{extracted_date}.csv')"
   ]
  }
 ],
 "metadata": {
  "kernelspec": {
   "display_name": "acled",
   "language": "python",
   "name": "python3"
  },
  "language_info": {
   "codemirror_mode": {
    "name": "ipython",
    "version": 3
   },
   "file_extension": ".py",
   "mimetype": "text/x-python",
   "name": "python",
   "nbconvert_exporter": "python",
   "pygments_lexer": "ipython3",
   "version": "3.11.11"
  }
 },
 "nbformat": 4,
 "nbformat_minor": 5
}
